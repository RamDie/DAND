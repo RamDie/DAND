{
 "metadata": {
  "name": "",
  "signature": "sha256:44edc99b9dcd6463cc5e4298807d8036e5bae0ba04b2c03f71a7efcc27890736"
 },
 "nbformat": 3,
 "nbformat_minor": 0,
 "worksheets": [
  {
   "cells": [
    {
     "cell_type": "markdown",
     "metadata": {},
     "source": [
      "Quizzes\n",
      "======="
     ]
    },
    {
     "cell_type": "code",
     "collapsed": false,
     "input": [
      "from pymongo import MongoClient\n",
      "\n",
      "#Connection to MongoDB\n",
      "client = MongoClient('mongodb://localhost:27017')\n",
      "db = client.maps"
     ],
     "language": "python",
     "metadata": {},
     "outputs": [],
     "prompt_number": 8
    },
    {
     "cell_type": "markdown",
     "metadata": {},
     "source": [
      "What is the number of documents?\n",
      "--------------------------------"
     ]
    },
    {
     "cell_type": "code",
     "collapsed": false,
     "input": [
      "db.nodos.find().count()"
     ],
     "language": "python",
     "metadata": {},
     "outputs": [
      {
       "metadata": {},
       "output_type": "pyout",
       "prompt_number": 21,
       "text": [
        "124163"
       ]
      }
     ],
     "prompt_number": 21
    },
    {
     "cell_type": "markdown",
     "metadata": {},
     "source": [
      "What is the number of phones?\n",
      "-----------------------------"
     ]
    },
    {
     "cell_type": "code",
     "collapsed": false,
     "input": [
      "result = db.nodos.aggregate([{\"$match\":{\"phone\":{\"$exists\":1,\"$not\":{\"$size\":0}}}},{\"$unwind\":\"$phone\"},\n",
      "                             {\"$group\":{\"_id\":\"tot_phone\",\"count\":{\"$sum\":1}}}])\n",
      "\n",
      "list(result)"
     ],
     "language": "python",
     "metadata": {},
     "outputs": [
      {
       "metadata": {},
       "output_type": "pyout",
       "prompt_number": 22,
       "text": [
        "[{u'_id': u'tot_phone', u'count': 772}]"
       ]
      }
     ],
     "prompt_number": 22
    },
    {
     "cell_type": "markdown",
     "metadata": {},
     "source": [
      "What is the number of postcodes?\n",
      "--------------------------------"
     ]
    },
    {
     "cell_type": "code",
     "collapsed": false,
     "input": [
      "result = db.nodos.aggregate([{\"$match\":{\"postcode\":{\"$exists\":1}}}, \n",
      "                           {\"$group\":{\"_id\":\"postcodes\",\"postcode_set\":{ \"$addToSet\":\"$postcode\"}}},\n",
      "                           {\"$unwind\":\"$postcode_set\"},{\"$group\":{\"_id\":\"$_id\",\"count\":{\"$sum\":1}}}])\n",
      "list(result)"
     ],
     "language": "python",
     "metadata": {},
     "outputs": [
      {
       "metadata": {},
       "output_type": "pyout",
       "prompt_number": 23,
       "text": [
        "[{u'_id': u'postcodes', u'count': 160}]"
       ]
      }
     ],
     "prompt_number": 23
    },
    {
     "cell_type": "markdown",
     "metadata": {},
     "source": [
      "What is the number of phone codes?\n",
      "----------------------------------"
     ]
    },
    {
     "cell_type": "code",
     "collapsed": false,
     "input": [
      "result = db.nodos.aggregate([{\"$match\":{\"phonecode\":{\"$exists\":1}}}, \n",
      "                           {\"$group\":{\"_id\":\"phonecodes\",\"phonecode_set\":{ \"$addToSet\":\"$phonecode\"}}},\n",
      "                           {\"$unwind\":\"$phonecode_set\"},{\"$group\":{\"_id\":\"$_id\",\"count\":{\"$sum\":1}}}])\n",
      "list(result)"
     ],
     "language": "python",
     "metadata": {},
     "outputs": [
      {
       "metadata": {},
       "output_type": "pyout",
       "prompt_number": 27,
       "text": [
        "[{u'_id': u'phonecodes', u'count': 247}]"
       ]
      }
     ],
     "prompt_number": 27
    },
    {
     "cell_type": "markdown",
     "metadata": {},
     "source": [
      "What is the number of streets?\n",
      "------------------------------"
     ]
    },
    {
     "cell_type": "code",
     "collapsed": false,
     "input": [
      "result = db.nodos.aggregate([{\"$match\":{\"street\":{\"$exists\":1}}}, \n",
      "                             {\"$group\":{\"_id\":\"streets\",\"street_set\":{ \"$addToSet\":\"$street\"}}},\n",
      "                             {\"$unwind\":\"$street_set\"},{\"$group\":{\"_id\":\"$_id\",\"count\":{\"$sum\":1}}}])\n",
      "list(result)"
     ],
     "language": "python",
     "metadata": {},
     "outputs": [
      {
       "metadata": {},
       "output_type": "pyout",
       "prompt_number": 28,
       "text": [
        "[{u'_id': u'streets', u'count': 2579}]"
       ]
      }
     ],
     "prompt_number": 28
    },
    {
     "cell_type": "markdown",
     "metadata": {},
     "source": [
      "Is there a telation between Phone Code and PostCode Number?\n",
      "------------------------------------------------\n",
      "In Buenos Aires the Phone Code is composed by the first four numbers of the phone. The first one is always 4, therefore only the three last numbers are taken into account (e.g.: for 4833-1212 the code is 833), and generally people who lives in the same neighborhood has a similar code (the code begin with 833 for instance). As the PostCode number also has a relation with the neighborhood, I wanted to determine if one phone code was related to one or more PostCode numbers. To determine that I ran the following query:"
     ]
    },
    {
     "cell_type": "code",
     "collapsed": false,
     "input": [
      "result = db.nodos.aggregate([{\"$match\":{\"postcode\":{\"$exists\":\"1\"},\"phonecode\":{\"$exists\":\"1\"}}},\n",
      "                             {\"$group\":{\"_id\":\"$phonecode\", \"codtel\":{ \"$addToSet\":\"$postcode\"}}},{\"$unwind\":\"$codtel\"},\n",
      "                             {\"$group\":{\"_id\":\"$_id\",\"count\":{\"$sum\":1}}},{\"$group\":{\"_id\":\"mean_cp\",\"mean\":{\"$avg\":\"$count\"}}}])\n"
     ],
     "language": "python",
     "metadata": {},
     "outputs": [
      {
       "output_type": "stream",
       "stream": "stdout",
       "text": [
        "[{u'_id': u'mean_cp', u'mean': 1.1825396825396826}]\n"
       ]
      }
     ],
     "prompt_number": 14
    },
    {
     "cell_type": "markdown",
     "metadata": {},
     "source": [
      "The results seems to show a correlation between the phone code and the postcode area, due to the fact that both are related to neighborhoods. Multiple phone codes could be related to a particular postcode area, but a particular phone code tends to be circumscribed to one postcode area."
     ]
    },
    {
     "cell_type": "markdown",
     "metadata": {},
     "source": [
      "Which Three Most Popular Banks?\n",
      "-------------------------------"
     ]
    },
    {
     "cell_type": "code",
     "collapsed": false,
     "input": [
      "result = db.nodos.aggregate([{\"$match\":{\"amenity.type\":\"bank\"}},{\"$group\":{\"_id\":\"$amenity.name\",\"count\":{\"$sum\":1}}},\n",
      "                             {\"$sort\":{\"count\":-1}},{\"$limit\":3}])\n"
     ],
     "language": "python",
     "metadata": {},
     "outputs": [
      {
       "metadata": {},
       "output_type": "pyout",
       "prompt_number": 16,
       "text": [
        "[{u'_id': u'Santander R\\xedo', u'count': 17},\n",
        " {u'_id': u'Galicia', u'count': 8},\n",
        " {u'_id': u'BBVA Franc\\xe9s', u'count': 8}]"
       ]
      }
     ],
     "prompt_number": 16
    },
    {
     "cell_type": "markdown",
     "metadata": {},
     "source": [
      "Are there most restaurants than fastfoods or viceversa?\n",
      "-------------------------------------------------------"
     ]
    },
    {
     "cell_type": "code",
     "collapsed": false,
     "input": [
      "result = db.nodos.aggregate([{\"$match\":{\"amenity.type\": {\"$in\":[\"restaurant\",\"fast_food\"]}}},\n",
      "                             {\"$group\":{\"_id\":\"$amenity.type\",\"count\":{\"$sum\":1}}},{\"$sort\":{\"count\":-1}},{\"$limit\":3}])\n"
     ],
     "language": "python",
     "metadata": {},
     "outputs": [
      {
       "metadata": {},
       "output_type": "pyout",
       "prompt_number": 17,
       "text": [
        "[{u'_id': u'restaurant', u'count': 312}, {u'_id': u'fast_food', u'count': 86}]"
       ]
      }
     ],
     "prompt_number": 17
    },
    {
     "cell_type": "markdown",
     "metadata": {},
     "source": [
      "Auditing and cleaning datase\n",
      "============================"
     ]
    },
    {
     "cell_type": "code",
     "collapsed": false,
     "input": [
      "from pymongo import MongoClient\n",
      "import xml.etree.cElementTree as ET\n",
      "import re\n",
      "\n",
      "#Regular Expressions\n",
      "phonerg = re.compile(r'.*(phone).*')\n",
      "numrg = re.compile(r'\\d')\n",
      "housenumrg = re.compile(r'^[\\d]+$') #only numbers\n",
      "hn_multiple = re.compile(r'^[\\d,;\\-]+$') #multiple house numbers\n",
      "float_num = re.compile(r'^[\\d\\.]+$')\n",
      "\n",
      "#Functions\n",
      "def clean_phone(phone):\n",
      "    phone_num = ''\n",
      "    \n",
      "    for char in phone:\n",
      "        if numrg.match(char):\n",
      "            phone_num = phone_num + char\n",
      "\n",
      "        if phone_num.startswith('54'):\n",
      "            phone_num = phone_num[2:]\n",
      "        elif phone_num.startswith('054'):\n",
      "            phone_num = phone_num[3:] \n",
      "        elif phone_num.startswith('0054'):\n",
      "            phone_num = phone_num[4:]   \n",
      "\n",
      "        if phone_num.startswith('11'):\n",
      "            phone_num = phone_num[2:]\n",
      "        elif phone_num.startswith('011'):\n",
      "            phone_num = phone_num[3:]   \n",
      "            \n",
      "    return phone_num\n",
      "\n",
      "#Document to upload into mongodb\n",
      "doc = dict()\n",
      "\n",
      "#Data is cleaned and prepared to upload into mongodb (Data Wrangling)\n",
      "def process_map(filename):\n",
      "    data = []   \n",
      "    phone_num = ''\n",
      "    add_flg = ''\n",
      "    flg_amenity = ''\n",
      "    \n",
      "    for event, element in ET.iterparse(filename, events=(\"start\",)):\n",
      "        doc = {}\n",
      "        doc['phone']= list()\n",
      "        doc['housenumber'] = list()\n",
      "        flg_amenity = ''\n",
      "                \n",
      "        if element.tag == \"node\":\n",
      "            doc['type'] =  \"node\"\n",
      "        else:\n",
      "            continue        \n",
      "        \n",
      "        for subel in element:\n",
      "            if subel.tag == 'tag':\n",
      "                \n",
      "                #Phones\n",
      "                if phonerg.search(subel.attrib['k']):  \n",
      "                    phones = re.compile(\"[/;,]\").split(subel.attrib['v'])\n",
      "                    \n",
      "                    if len(phones) > 0:\n",
      "                        add_flg = 'x'\n",
      "                        \n",
      "                    for phone in phones:\n",
      "                        phone_num = clean_phone(phone)                                                \n",
      "                        \n",
      "                        # If it is not a cellphone, the phone code is saved \n",
      "                        if phone_num.startswith('4'):                            \n",
      "                            doc['phonecode'] = phone_num[1:4]\n",
      "                            \n",
      "                        doc['phone'].append(phone_num)                          \n",
      "                \n",
      "                #Housenumber\n",
      "                elif ( subel.attrib['k'] == 'addr:housenumber' ):\n",
      "                        \n",
      "                    # Only numbers\n",
      "                    if housenumrg.match(subel.attrib['v']):\n",
      "                        add_flg = 'x'\n",
      "                        doc['housenumber'].append(subel.attrib['v'])\n",
      "                        \n",
      "                    # Only numbers and periods (possibly a decimal value)\n",
      "                    elif float_num.match(subel.attrib['v']):\n",
      "                        try:\n",
      "                            doc['housenumber'].append(str(int(float(subel.attrib['v']))))\n",
      "                        except ValueError: \n",
      "                            False\n",
      "                            \n",
      "                    # Multiple housenumbers\n",
      "                    elif hn_multiple.match(subel.attrib['v']):\n",
      "                        add_flg = 'x'\n",
      "                        doc['housenumber'] = re.compile(r'[,;\\-]').split(subel.attrib['v'])\n",
      "                \n",
      "                #Street\n",
      "                elif ( subel.attrib['k'] == 'addr:street' ):\n",
      "                    add_flg = 'x'\n",
      "                    doc['street'] = subel.attrib['v']\n",
      "                    \n",
      "                #PostCode\n",
      "                elif ( subel.attrib['k'] == 'addr:postcode'):\n",
      "                    add_flg = 'x'\n",
      "                    postcode = ''\n",
      "                    for char in subel.attrib['v']:                        \n",
      "                        if numrg.match(char):\n",
      "                            postcode = postcode + char\n",
      "                    doc['postcode'] = postcode\n",
      "                \n",
      "                #Amenities\n",
      "                elif (flg_amenity == 'x') and (subel.attrib['k'] == 'name'):\n",
      "                    doc['amenity']['name'] = subel.attrib['v'] \n",
      "                    flg_amenity = ''\n",
      "                elif ( subel.attrib['k'] == 'amenity' ):\n",
      "                    if subel.attrib['v'] in ['bank','restaurant','fast_food']:\n",
      "                        doc['amenity'] = {}\n",
      "                        doc['amenity']['type']=subel.attrib['v']\n",
      "                        flg_amenity = 'x'\n",
      "                        \n",
      "        # If data was found, the document is appended         \n",
      "        if add_flg == 'x':                  \n",
      "            data.append(doc) \n",
      "            add_flg = ''\n",
      "        \n",
      "    return data\n",
      "\n",
      "# Data is uploaded into mongodb    \n",
      "def upload_into_mongodb():   \n",
      "    data = process_map('C:\\Users\\Usuario\\Desktop\\Data Science\\DAND\\P3 - Wrangle OpenStreetMap Data\\Project\\caba&surrounds.osm')\n",
      "    for nodo in data:\n",
      "        db.nodos.insert(nodo)\n",
      "\n",
      "# Main        \n",
      "upload_into_mongodb()"
     ],
     "language": "python",
     "metadata": {},
     "outputs": [],
     "prompt_number": 9
    }
   ],
   "metadata": {}
  }
 ]
}